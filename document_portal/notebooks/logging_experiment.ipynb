{
 "cells": [
  {
   "cell_type": "code",
   "execution_count": 1,
   "id": "49a43e52",
   "metadata": {},
   "outputs": [
    {
     "name": "stdout",
     "output_type": "stream",
     "text": [
      "Hi\n"
     ]
    }
   ],
   "source": [
    "print(\"Hi\")"
   ]
  },
  {
   "cell_type": "code",
   "execution_count": 2,
   "id": "6188c9b7",
   "metadata": {},
   "outputs": [],
   "source": [
    "import logging\n",
    "import os\n",
    "from datetime import datetime"
   ]
  },
  {
   "cell_type": "code",
   "execution_count": 3,
   "id": "d290154d",
   "metadata": {},
   "outputs": [],
   "source": [
    "log_dir = os.path.join(os.getcwd(),\"logs\")"
   ]
  },
  {
   "cell_type": "code",
   "execution_count": 4,
   "id": "87bfc461",
   "metadata": {},
   "outputs": [],
   "source": [
    "os.makedirs(\"logs\",exist_ok=True)"
   ]
  },
  {
   "cell_type": "code",
   "execution_count": 5,
   "id": "809e7c60",
   "metadata": {},
   "outputs": [],
   "source": [
    "os.makedirs(log_dir,exist_ok=True)"
   ]
  },
  {
   "cell_type": "code",
   "execution_count": 6,
   "id": "23cef608",
   "metadata": {},
   "outputs": [],
   "source": [
    "# this is the log file(name of the log file with current date and time)\n",
    "LOG_FILE = f\"{datetime.now().strftime('%m_%d_%Y_%H_%M_%S')}.log\""
   ]
  },
  {
   "cell_type": "code",
   "execution_count": 7,
   "id": "96c1d298",
   "metadata": {},
   "outputs": [
    {
     "data": {
      "text/plain": [
       "'07_27_2025_12_03_15.log'"
      ]
     },
     "execution_count": 7,
     "metadata": {},
     "output_type": "execute_result"
    }
   ],
   "source": [
    "LOG_FILE"
   ]
  },
  {
   "cell_type": "code",
   "execution_count": 8,
   "id": "30119bc6",
   "metadata": {},
   "outputs": [
    {
     "data": {
      "text/plain": [
       "'07_27_2025_12_03_15.log'"
      ]
     },
     "execution_count": 8,
     "metadata": {},
     "output_type": "execute_result"
    }
   ],
   "source": [
    "LOG_FILE"
   ]
  },
  {
   "cell_type": "code",
   "execution_count": 9,
   "id": "04136e3e",
   "metadata": {},
   "outputs": [],
   "source": [
    "LOG_FILE_PATH = os.path.join(log_dir, LOG_FILE)"
   ]
  },
  {
   "cell_type": "code",
   "execution_count": 10,
   "id": "2e4aadee",
   "metadata": {},
   "outputs": [],
   "source": [
    "logging.basicConfig(\n",
    "    filename=LOG_FILE_PATH,\n",
    "    format=\"[ %(asctime)s ] %(levelname)s %(name)s (line:%(lineno)d) - %(message)s\",\n",
    "    level=logging.INFO,\n",
    ")"
   ]
  },
  {
   "cell_type": "code",
   "execution_count": 11,
   "id": "de7b4b60",
   "metadata": {},
   "outputs": [],
   "source": [
    "logger = logging.getLogger(\"Documentportal\")"
   ]
  },
  {
   "cell_type": "code",
   "execution_count": 12,
   "id": "432fcc8f",
   "metadata": {},
   "outputs": [],
   "source": [
    "logger.info(\"Logging has started\")"
   ]
  },
  {
   "cell_type": "code",
   "execution_count": null,
   "id": "06f90653",
   "metadata": {},
   "outputs": [],
   "source": []
  },
  {
   "cell_type": "code",
   "execution_count": 13,
   "id": "b4d810c0",
   "metadata": {},
   "outputs": [],
   "source": [
    "import structlog\n",
    "# we can structure our message in JSON/YAML/CSV format etc"
   ]
  },
  {
   "cell_type": "code",
   "execution_count": 14,
   "id": "f4bd0bb0",
   "metadata": {},
   "outputs": [],
   "source": [
    "logger = structlog.get_logger()"
   ]
  },
  {
   "cell_type": "code",
   "execution_count": 15,
   "id": "446b9828",
   "metadata": {},
   "outputs": [
    {
     "name": "stdout",
     "output_type": "stream",
     "text": [
      "2025-07-27 12:03:16 [info     ] User uploaded a file           filename=report.pdf user_id=1343\n"
     ]
    }
   ],
   "source": [
    "logger.info(\"User uploaded a file\", user_id=1343, filename=\"report.pdf\")"
   ]
  },
  {
   "cell_type": "code",
   "execution_count": null,
   "id": "953b0dfe",
   "metadata": {},
   "outputs": [],
   "source": []
  }
 ],
 "metadata": {
  "kernelspec": {
   "display_name": ".venv",
   "language": "python",
   "name": "python3"
  },
  "language_info": {
   "codemirror_mode": {
    "name": "ipython",
    "version": 3
   },
   "file_extension": ".py",
   "mimetype": "text/x-python",
   "name": "python",
   "nbconvert_exporter": "python",
   "pygments_lexer": "ipython3",
   "version": "3.12.3"
  }
 },
 "nbformat": 4,
 "nbformat_minor": 5
}
